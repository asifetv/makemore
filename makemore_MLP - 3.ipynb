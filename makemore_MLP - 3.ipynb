{
 "cells": [
  {
   "cell_type": "code",
   "execution_count": 167,
   "metadata": {},
   "outputs": [
    {
     "name": "stdout",
     "output_type": "stream",
     "text": [
      "32033 torch.Size([228146, 3])\n"
     ]
    }
   ],
   "source": [
    "\n",
    "# Learning rate\n",
    "\n",
    "# Read the file and encode them\n",
    "\n",
    "import torch\n",
    "import torch.nn.functional as F\n",
    "import random\n",
    "\n",
    "words = open('names.txt', \"r\").read().splitlines()\n",
    "random.seed(42)\n",
    "random.shuffle(words)\n",
    "\n",
    "stoi = {ch:i+1 for i, ch in enumerate(sorted(set(\"\".join(words))))}\n",
    "stoi['.'] = 0\n",
    "itos = {i:ch for ch, i in stoi.items()}\n",
    "\n",
    "block_size = 3\n",
    "ch_size = 2\n",
    "l1 = 200\n",
    "l2 = 27\n",
    "\n",
    "x_data = []\n",
    "y_data = []\n",
    "\n",
    "# Build the dataset using the context window\n",
    "\n",
    "for w in words:\n",
    "    context = [0] * block_size\n",
    "    #print(w)\n",
    "    for ch in w + '.':\n",
    "        idx = stoi[ch]\n",
    "        x_data.append(context)\n",
    "        y_data.append(idx)\n",
    "        #print(\"\".join([itos[i] for i in context]), \"--->\", ch)\n",
    "        context = context[1:] + [idx]\n",
    "\n",
    "# Create the lookup table\n",
    "x = torch.tensor(x_data)\n",
    "y = torch.tensor(y_data)\n",
    "#print(x.shape, y.shape)\n",
    "\n",
    "g = torch.Generator().manual_seed(2147483647)\n",
    "\n",
    "# Build the Weight vector (Block size = Hidden Layer - 100, Classifier - 27)\n",
    "C = torch.randn((27, ch_size), generator=g, requires_grad=True)\n",
    "W1 = torch.randn((block_size*ch_size, l1), generator=g, requires_grad=True)\n",
    "b1 = torch.randn((l1,), generator=g, requires_grad=True)\n",
    "W2 = torch.randn((l1, 27), generator=g, requires_grad=True)\n",
    "b2 = torch.randn((27,), generator=g, requires_grad=True)\n",
    "\n",
    "parameters = [C, W1, b1, W2, b2]\n",
    "batch_size = 32\n",
    "print(len(words), x.shape)\n",
    "\n"
   ]
  },
  {
   "cell_type": "code",
   "execution_count": 168,
   "metadata": {},
   "outputs": [],
   "source": [
    "data_size = x.shape[0]\n",
    "training_idx = int(data_size * 0.8)\n",
    "validation_idx = int(data_size * 0.9)"
   ]
  },
  {
   "cell_type": "code",
   "execution_count": 173,
   "metadata": {},
   "outputs": [
    {
     "name": "stdout",
     "output_type": "stream",
     "text": [
      "2.255629062652588\n"
     ]
    }
   ],
   "source": [
    "# Build Loss\n",
    "# Build backprop\n",
    "# Batch size\n",
    "\n",
    "lre = torch.linspace(-3, 0, 1000)\n",
    "lrs = 10**lre\n",
    "\n",
    "for i in range(10000):\n",
    "    #build minibatch\n",
    "    idx = torch.randint(0, training_idx, (batch_size,))\n",
    "    # Build forward pass\n",
    "    emb = C[x[idx]]\n",
    "    X2 = torch.tanh(emb.view(-1, block_size*ch_size) @ W1 + b1)\n",
    "    logits = X2 @ W2 + b2\n",
    "    counts = logits.exp()\n",
    "    probs = counts/counts.sum(1, keepdim=True)\n",
    "    loss = -probs[torch.arange(batch_size), y[idx]].log().mean()\n",
    "    #loss = F.cross_entropy(logits, y[idx])\n",
    "    #compute gradient\n",
    "    for p in parameters:\n",
    "        p.grad = None\n",
    "    loss.backward()\n",
    "    lr = 0.1\n",
    "    for p in parameters:\n",
    "        p.data += -lr * p.grad\n",
    "\n",
    "print(loss.item())\n"
   ]
  },
  {
   "cell_type": "code",
   "execution_count": null,
   "metadata": {},
   "outputs": [],
   "source": [
    "import matplotlib.pyplot as plt\n",
    "plt.plot(lri, lossi)"
   ]
  },
  {
   "cell_type": "code",
   "execution_count": 175,
   "metadata": {},
   "outputs": [
    {
     "name": "stdout",
     "output_type": "stream",
     "text": [
      "2.4324004650115967\n"
     ]
    }
   ],
   "source": [
    "emb = C[x[training_idx:validation_idx]]\n",
    "X2 = torch.tanh(emb.view(-1, block_size*ch_size) @ W1 + b1)\n",
    "logits = X2 @ W2 + b2\n",
    "loss = F.cross_entropy(logits, y[training_idx:validation_idx])\n",
    "print(loss.item())"
   ]
  },
  {
   "cell_type": "code",
   "execution_count": 188,
   "metadata": {},
   "outputs": [
    {
     "name": "stdout",
     "output_type": "stream",
     "text": [
      "kene.\n",
      "wallicin.\n",
      "ismirian.\n",
      "ziannid.\n",
      "gennania.\n"
     ]
    }
   ],
   "source": [
    "\n",
    "for _ in range(5):\n",
    "    words = [0] * block_size\n",
    "    name = []\n",
    "    while True:\n",
    "        emb = C[torch.tensor(words)]\n",
    "        X2 = torch.tanh(emb.view(-1, block_size*ch_size) @ W1 + b1)\n",
    "        logits = X2 @ W2 + b2\n",
    "        counts = logits.exp()\n",
    "        probs = counts/counts.sum(1, keepdim=True)\n",
    "        next = torch.multinomial(probs, num_samples=1, replacement=True, generator=g)\n",
    "        name.append(itos[next.item()])\n",
    "        words = words[1:] + [next.item()]\n",
    "        if next.item () == 0:\n",
    "            break\n",
    "    print(\"\".join(name))\n"
   ]
  },
  {
   "cell_type": "code",
   "execution_count": 187,
   "metadata": {},
   "outputs": [
    {
     "data": {
      "image/png": "[encoded data removed]",
      "text/plain": [
       "<Figure size 800x800 with 1 Axes>"
      ]
     },
     "metadata": {},
     "output_type": "display_data"
    }
   ],
   "source": [
    "plt.figure(figsize=(8,8))\n",
    "plt.scatter(C[:,0].data, C[:,1].data, s=200)\n",
    "for i in range(C.shape[0]):\n",
    "    plt.text(C[i,0].item(), C[i,1].item(), itos[i], ha=\"center\", va=\"center\", color='white')\n",
    "plt.grid('minor')"
   ]
  }
 ],
 "metadata": {
  "kernelspec": {
   "display_name": "Python 3",
   "language": "python",
   "name": "python3"
  },
  "language_info": {
   "codemirror_mode": {
    "name": "ipython",
    "version": 3
   },
   "file_extension": ".py",
   "mimetype": "text/x-python",
   "name": "python",
   "nbconvert_exporter": "python",
   "pygments_lexer": "ipython3",
   "version": "3.12.3"
  }
 },
 "nbformat": 4,
 "nbformat_minor": 2
}
