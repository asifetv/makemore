{
 "cells": [
  {
   "cell_type": "code",
   "execution_count": 1,
   "metadata": {},
   "outputs": [],
   "source": [
    "import torch\n",
    "import torch.nn.functional as F\n",
    "import random\n",
    "\n",
    "words = open('names.txt', 'r').read ().splitlines ()\n",
    "stoi = {ch:i+1 for i, ch in enumerate(sorted(set((\"\".join(words)))))}\n",
    "stoi['.'] = 0 \n",
    "itos = {i:ch for ch,i in stoi.items()} \n",
    "\n",
    "def build_dataset(words, block_size=3):\n",
    "    x = []\n",
    "    y = []\n",
    "    for w in words:\n",
    "        context = [0] * block_size\n",
    "        for ch in w + '.':\n",
    "            x.append(context)\n",
    "            y.append(stoi[ch])\n",
    "            context = context[1:] + [stoi[ch]]\n",
    "    x = torch.tensor(x)\n",
    "    y = torch.tensor(y)\n",
    "    return x, y\n",
    "\n",
    "\n",
    "\n",
    "class Linear:\n",
    "    def __init__(self, fan_in, fan_out, bias=True):\n",
    "        self.weight = torch.randn(fan_in, fan_out) / fan_in ** 0.5\n",
    "        self.bias = torch.zeros(fan_out) if bias else None\n",
    "\n",
    "    def __call__(self, x):\n",
    "        self.out = x @ self.weight\n",
    "        if self.bias is not None:\n",
    "            self.out += self.bias\n",
    "        return self.out\n",
    "    \n",
    "    def parameters(self):\n",
    "        return [self.weight] + [self.bias] if (self.bias is not None) else []\n",
    "\n",
    "\n",
    "class BatchNorm1d:\n",
    "    def __init__(self, dim, eps=1e-5, momentum=0.1):\n",
    "        self.gamma = torch.ones(dim)\n",
    "        self.beta = torch.zeros(dim)\n",
    "        self.running_mean = torch.zeros(dim)\n",
    "        self.running_var = torch.ones(dim)\n",
    "        self.momentum = momentum\n",
    "        self.eps = eps\n",
    "        self.training = True\n",
    "\n",
    "    def __call__(self, x):\n",
    "        if self.training:\n",
    "            if x.ndim == 2:\n",
    "                dim = 0\n",
    "            elif x.ndim == 3:\n",
    "                dim = (0, 1)\n",
    "            xmean = x.mean(dim, keepdim=True)\n",
    "            xvar = x.var(dim, keepdim=True)\n",
    "        else:\n",
    "            xmean = self.running_mean\n",
    "            xvar = self.running_var\n",
    "\n",
    "        xhat = (x - xmean)/torch.sqrt(xvar + self.eps)        \n",
    "        self.out = self.gamma * xhat + self.beta\n",
    "        if self.training:\n",
    "            with torch.no_grad ():\n",
    "                self.running_mean = self.momentum * xmean + (1 - self.momentum) * self.running_mean\n",
    "                self.running_var = self.momentum * xvar + (1 - self.momentum) * self.running_var\n",
    "        return self.out\n",
    "\n",
    "    def parameters(self):\n",
    "        return [self.beta] + [self.gamma]\n",
    "\n",
    "class Tanh:\n",
    "    def __call__(self, x):\n",
    "        self.out = torch.tanh(x)\n",
    "        return self.out\n",
    "    \n",
    "    def parameters(self):\n",
    "        return []\n",
    "\n",
    "class Embedding:\n",
    "    def __init__(self, num_embedding, embedding_dim):\n",
    "        self.weight = torch.randn((num_embedding, embedding_dim))\n",
    "\n",
    "    def __call__(self, idx):\n",
    "        self.out = self.weight[idx]\n",
    "        return self.out\n",
    "    \n",
    "    def parameters(self):\n",
    "        return [self.weight]\n",
    "\n",
    "class FlattenConsecutive:\n",
    "    def __init__(self, n):\n",
    "        self.n = n\n",
    "\n",
    "    def __call__ (self, x):\n",
    "        B, T, C = x.shape\n",
    "        x = x.view(B, T//self.n, C*self.n)\n",
    "        if x.shape[1] == 1:\n",
    "            x = x.squeeze(1)\n",
    "        \n",
    "        self.out = x\n",
    "        return self.out\n",
    "\n",
    "    def parameters(self):\n",
    "        return []\n",
    "\n",
    "class Sequential:\n",
    "    def __init__(self, layers):\n",
    "        self.layers = layers\n",
    "    \n",
    "    def __call__ (self, x):\n",
    "        for layer in self.layers:\n",
    "            x = layer(x)\n",
    "        self.out = x\n",
    "        return self.out\n",
    "\n",
    "    def parameters(self):\n",
    "        p = [p for layer in self.layers for p in layer.parameters()]\n",
    "        return p "
   ]
  },
  {
   "cell_type": "code",
   "execution_count": 2,
   "metadata": {},
   "outputs": [
    {
     "name": "stdout",
     "output_type": "stream",
     "text": [
      "........ -----> y\n",
      ".......y -----> u\n",
      "......yu -----> h\n",
      ".....yuh -----> e\n",
      "....yuhe -----> n\n",
      "...yuhen -----> g\n",
      "..yuheng -----> .\n",
      "........ -----> d\n",
      ".......d -----> i\n",
      "......di -----> o\n",
      ".....dio -----> n\n",
      "....dion -----> d\n",
      "...diond -----> r\n",
      "..diondr -----> e\n",
      ".diondre -----> .\n",
      "........ -----> x\n",
      ".......x -----> a\n",
      "......xa -----> v\n",
      ".....xav -----> i\n",
      "....xavi -----> e\n"
     ]
    }
   ],
   "source": [
    "max_steps = 200000\n",
    "n_embd = 24\n",
    "vocab_size = 27\n",
    "block_size = 8\n",
    "batch_size = 32\n",
    "n_hidden = 128\n",
    "\n",
    "n1 = int(len(words) * 0.8)\n",
    "n2 = int(len(words) * 0.9)\n",
    "\n",
    "random.seed(42)\n",
    "torch.manual_seed(42)\n",
    "random.shuffle(words)\n",
    "\n",
    "Xtr, Ytr = build_dataset(words[:n1], block_size)\n",
    "Xval, Yval = build_dataset(words[n1:n2], block_size)\n",
    "Xtst, Ytst = build_dataset(words[n2:], block_size)\n",
    "\n",
    "for (x, y) in zip(Xtr[:20], Ytr[:20]):\n",
    "    print(''.join(itos[ix.item()] for ix in x), '----->', itos[y.item()])"
   ]
  },
  {
   "cell_type": "code",
   "execution_count": 3,
   "metadata": {},
   "outputs": [
    {
     "name": "stdout",
     "output_type": "stream",
     "text": [
      "      0/ 200000 --> loss = 3.3167\n",
      "  10000/ 200000 --> loss = 2.0576\n",
      "  20000/ 200000 --> loss = 2.0723\n",
      "  30000/ 200000 --> loss = 2.5134\n",
      "  40000/ 200000 --> loss = 2.1476\n",
      "  50000/ 200000 --> loss = 1.7836\n",
      "  60000/ 200000 --> loss = 2.2592\n",
      "  70000/ 200000 --> loss = 1.9331\n",
      "  80000/ 200000 --> loss = 1.6875\n",
      "  90000/ 200000 --> loss = 2.0395\n",
      " 100000/ 200000 --> loss = 1.7736\n",
      " 110000/ 200000 --> loss = 1.9569\n",
      " 120000/ 200000 --> loss = 1.7465\n",
      " 130000/ 200000 --> loss = 1.8126\n",
      " 140000/ 200000 --> loss = 1.7405\n",
      " 150000/ 200000 --> loss = 1.7466\n",
      " 160000/ 200000 --> loss = 1.8815\n",
      " 170000/ 200000 --> loss = 1.6267\n",
      " 180000/ 200000 --> loss = 1.6479\n",
      " 190000/ 200000 --> loss = 1.8556\n"
     ]
    }
   ],
   "source": [
    "model = Sequential([\n",
    "    Embedding(vocab_size, n_embd),\n",
    "    FlattenConsecutive(2), Linear(2 * n_embd, n_hidden), BatchNorm1d(n_hidden), Tanh (),\n",
    "    FlattenConsecutive(2), Linear(2 * n_hidden, n_hidden), BatchNorm1d(n_hidden), Tanh (),\n",
    "    FlattenConsecutive(2), Linear(2 * n_hidden, n_hidden), BatchNorm1d(n_hidden), Tanh (),\n",
    "    Linear(n_hidden, vocab_size),\n",
    "])\n",
    "\n",
    "parameters = model.parameters()\n",
    "for p in parameters:\n",
    "    p.requires_grad = True\n",
    "\n",
    "with torch.no_grad ():\n",
    "    model.layers[-1].weight *= 0.1\n",
    "\n",
    "    \n",
    "X = Xtr\n",
    "Y = Ytr\n",
    "lossi = []\n",
    "\n",
    "\n",
    "for i in range(max_steps):\n",
    "    #Batch creation\n",
    "    idx = torch.randint(0, X.shape[0], (batch_size,))\n",
    "\n",
    "    xb = X[idx]\n",
    "    yb = Y[idx]\n",
    "\n",
    "    xb = model(xb)\n",
    "    \n",
    "    loss = F.cross_entropy(xb, yb)\n",
    "    for p in parameters:\n",
    "        p.grad = None\n",
    "    \n",
    "    #backward pass\n",
    "    loss.backward ()\n",
    "    lr = 0.01 if i > 150000 else 0.1\n",
    "    \n",
    "    #Update\n",
    "    for p in parameters:\n",
    "        p.data += -lr * p.grad \n",
    "\n",
    "    if (i%10000 == 0):\n",
    "        print(f'{i:7d}/{max_steps:7d} --> loss = {loss.item():.4f}')\n",
    "    lossi.append(loss.log10().item())\n"
   ]
  },
  {
   "cell_type": "code",
   "execution_count": 34,
   "metadata": {},
   "outputs": [
    {
     "data": {
      "text/plain": [
       "[<matplotlib.lines.Line2D at 0x3375bbda0>]"
      ]
     },
     "execution_count": 34,
     "metadata": {},
     "output_type": "execute_result"
    },
    {
     "data": {
      "image/png": "[encoded data removed]",
      "text/plain": [
       "<Figure size 640x480 with 1 Axes>"
      ]
     },
     "metadata": {},
     "output_type": "display_data"
    }
   ],
   "source": [
    "import matplotlib.pyplot as plt\n",
    "plt.plot(torch.tensor(lossi).view(-1, 1000).mean(1))\n"
   ]
  },
  {
   "cell_type": "code",
   "execution_count": 40,
   "metadata": {},
   "outputs": [
    {
     "name": "stdout",
     "output_type": "stream",
     "text": [
      "train 1.7690253257751465\n",
      "val 1.9936308860778809\n"
     ]
    }
   ],
   "source": [
    "for layer in model.layers:\n",
    "    layer.training = False\n",
    "\n",
    "@torch.no_grad()\n",
    "def split_loss(split):\n",
    "    x, y = {\n",
    "        'train': (Xtr, Ytr),\n",
    "        'val': (Xval, Yval),\n",
    "        'test': (Xtst, Ytst)\n",
    "    }[split]\n",
    "    \n",
    "    x = model(x)\n",
    "    loss = F.cross_entropy(x, y)\n",
    "    print(split, loss.item())\n",
    "\n",
    "split_loss('train')\n",
    "split_loss('val')\n"
   ]
  },
  {
   "cell_type": "code",
   "execution_count": null,
   "metadata": {},
   "outputs": [],
   "source": [
    "for i in range(20):\n",
    "    context = [0] * block_size\n",
    "    name = []\n",
    "    while True:\n",
    "        logits = model(torch.tensor([context]))\n",
    "        probs = F.softmax(logits, dim=1)\n",
    "        idx = torch.multinomial(probs, num_samples=1, replacement=True).item()\n",
    "        name.append(itos[idx])\n",
    "        if (idx == 0):\n",
    "            break\n",
    "        context = context[1:] + [idx]\n",
    "    print(\"\".join(name))\n"
   ]
  },
  {
   "cell_type": "code",
   "execution_count": 27,
   "metadata": {},
   "outputs": [
    {
     "name": "stdout",
     "output_type": "stream",
     "text": [
      "torch.Size([4, 8])\n",
      "tensor([[ 0,  0, 16, 18,  9, 19,  9, 12],\n",
      "        [ 0,  0,  0, 12,  5, 12,  1, 14],\n",
      "        [ 0,  0,  0,  0,  0,  0,  0,  0],\n",
      "        [ 0,  0,  0,  0, 11,  1, 20,  9]])\n"
     ]
    }
   ],
   "source": [
    "ix = torch.randint(0, Xtr.shape[0], (4,))\n",
    "Xb, Yb = Xtr[ix], Ytr[ix]\n",
    "logits = model(Xb)\n",
    "print(Xb.shape)\n",
    "print(Xb)\n"
   ]
  },
  {
   "cell_type": "code",
   "execution_count": 8,
   "metadata": {},
   "outputs": [
    {
     "data": {
      "text/plain": [
       "torch.Size([4, 8, 10])"
      ]
     },
     "execution_count": 8,
     "metadata": {},
     "output_type": "execute_result"
    }
   ],
   "source": [
    "model.layers[0].out.shape #output of embedding layer"
   ]
  },
  {
   "cell_type": "code",
   "execution_count": 9,
   "metadata": {},
   "outputs": [
    {
     "data": {
      "text/plain": [
       "torch.Size([4, 80])"
      ]
     },
     "execution_count": 9,
     "metadata": {},
     "output_type": "execute_result"
    }
   ],
   "source": [
    "model.layers[1].out.shape #output of flattening layer"
   ]
  },
  {
   "cell_type": "code",
   "execution_count": 10,
   "metadata": {},
   "outputs": [
    {
     "data": {
      "text/plain": [
       "torch.Size([4, 200])"
      ]
     },
     "execution_count": 10,
     "metadata": {},
     "output_type": "execute_result"
    }
   ],
   "source": [
    "model.layers[2].out.shape #output of Linear layer"
   ]
  },
  {
   "cell_type": "code",
   "execution_count": 11,
   "metadata": {},
   "outputs": [
    {
     "data": {
      "text/plain": [
       "torch.Size([4, 200])"
      ]
     },
     "execution_count": 11,
     "metadata": {},
     "output_type": "execute_result"
    }
   ],
   "source": [
    "model.layers[3].out.shape"
   ]
  },
  {
   "cell_type": "code",
   "execution_count": 15,
   "metadata": {},
   "outputs": [
    {
     "data": {
      "text/plain": [
       "torch.Size([4, 5, 200])"
      ]
     },
     "execution_count": 15,
     "metadata": {},
     "output_type": "execute_result"
    }
   ],
   "source": [
    "(torch.randn((4, 5, 80)) @ torch.randn((8*10, 200)) + torch.randn(200)).shape"
   ]
  },
  {
   "cell_type": "code",
   "execution_count": null,
   "metadata": {},
   "outputs": [],
   "source": [
    "e = torch.randn(4, 8, 10)\n",
    "explicit = torch.cat([e[:, ::2, :], e[:, 1::2, :]], dim=2)\n",
    "print(explicit.shape)\n",
    "(e.view (4, 4, 20) == explicit).all()"
   ]
  },
  {
   "cell_type": "code",
   "execution_count": 28,
   "metadata": {},
   "outputs": [
    {
     "name": "stdout",
     "output_type": "stream",
     "text": [
      "Embedding : (4, 8, 10)\n",
      "FlattenConsecutive : (4, 80)\n",
      "Linear : (4, 200)\n",
      "BatchNorm1d : (4, 200)\n",
      "Tanh : (4, 200)\n",
      "Linear : (4, 27)\n"
     ]
    }
   ],
   "source": [
    "for layer in model.layers:\n",
    "    print(layer.__class__.__name__, ':', tuple(layer.out.shape))"
   ]
  }
 ],
 "metadata": {
  "kernelspec": {
   "display_name": "Python 3",
   "language": "python",
   "name": "python3"
  },
  "language_info": {
   "codemirror_mode": {
    "name": "ipython",
    "version": 3
   },
   "file_extension": ".py",
   "mimetype": "text/x-python",
   "name": "python",
   "nbconvert_exporter": "python",
   "pygments_lexer": "ipython3",
   "version": "3.12.3"
  }
 },
 "nbformat": 4,
 "nbformat_minor": 2
}
